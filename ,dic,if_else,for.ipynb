{
  "nbformat": 4,
  "nbformat_minor": 0,
  "metadata": {
    "colab": {
      "provenance": []
    },
    "kernelspec": {
      "name": "python3",
      "display_name": "Python 3"
    },
    "language_info": {
      "name": "python"
    }
  },
  "cells": [
    {
      "cell_type": "code",
      "execution_count": 4,
      "metadata": {
        "colab": {
          "base_uri": "https://localhost:8080/"
        },
        "id": "BAjTWGmGflOV",
        "outputId": "ed8aad9c-0d88-4cbd-cc25-54ad9840aa36"
      },
      "outputs": [
        {
          "output_type": "stream",
          "name": "stdout",
          "text": [
            "Enter the Price1600\n",
            "I will not purchase\n",
            "its ok\n"
          ]
        }
      ],
      "source": [
        " price = int(input(\"Enter the Price\"))\n",
        "if price>1000:\n",
        "    print(\"I will not purchase\")\n",
        "    if price>5000:\n",
        "        print(\"This is too much\")\n",
        "    elif price<2000:\n",
        "        print(\"its ok\")\n",
        "        \n",
        "elif price<1000:\n",
        "    print(\"I will purchase\")\n",
        "else:\n",
        "    print(\"not interested\")\n",
        "    print(\"I will not purchase\")\n",
        "    "
      ]
    },
    {
      "cell_type": "code",
      "source": [
        "l= [45,98,21,32,52,63,46]"
      ],
      "metadata": {
        "id": "jlEauHjPgD7m"
      },
      "execution_count": 8,
      "outputs": []
    },
    {
      "cell_type": "code",
      "source": [
        "l[2]+5"
      ],
      "metadata": {
        "colab": {
          "base_uri": "https://localhost:8080/"
        },
        "id": "bynskoAJgr32",
        "outputId": "bd241825-95b9-42d8-c168-9176b74da774"
      },
      "execution_count": 9,
      "outputs": [
        {
          "output_type": "execute_result",
          "data": {
            "text/plain": [
              "26"
            ]
          },
          "metadata": {},
          "execution_count": 9
        }
      ]
    },
    {
      "cell_type": "code",
      "source": [
        "l1= []"
      ],
      "metadata": {
        "id": "r1lreF1HguRC"
      },
      "execution_count": 10,
      "outputs": []
    },
    {
      "cell_type": "code",
      "source": [
        "l1.append(l[0]+5)"
      ],
      "metadata": {
        "id": "K-zyiIX9gykM"
      },
      "execution_count": 11,
      "outputs": []
    },
    {
      "cell_type": "code",
      "source": [
        "l2 = []\n",
        "for i in l:\n",
        "  print(i+1)\n",
        "  l2.append(i+1)\n",
        "l2"
      ],
      "metadata": {
        "colab": {
          "base_uri": "https://localhost:8080/"
        },
        "id": "dLkWBWL_hA7T",
        "outputId": "4ae9bd37-fe95-49ce-a698-03c9405b03e8"
      },
      "execution_count": 17,
      "outputs": [
        {
          "output_type": "stream",
          "name": "stdout",
          "text": [
            "46\n",
            "99\n",
            "22\n",
            "33\n",
            "53\n",
            "64\n",
            "47\n"
          ]
        },
        {
          "output_type": "execute_result",
          "data": {
            "text/plain": [
              "[46, 99, 22, 33, 53, 64, 47]"
            ]
          },
          "metadata": {},
          "execution_count": 17
        }
      ]
    },
    {
      "cell_type": "code",
      "source": [
        "l3 = [\"Sudqjnd\",\"sodi\",\"aman\",\"sandhya\"]"
      ],
      "metadata": {
        "id": "dn115deNhNtx"
      },
      "execution_count": 23,
      "outputs": []
    },
    {
      "cell_type": "code",
      "source": [
        "l4= []\n",
        "for i in l3:\n",
        "  print(i)\n",
        "  l4.append(i.upper())"
      ],
      "metadata": {
        "colab": {
          "base_uri": "https://localhost:8080/"
        },
        "id": "4LuHxfa6lW_Z",
        "outputId": "34bbc9ea-3450-4f5e-beca-ea1a107b7062"
      },
      "execution_count": 24,
      "outputs": [
        {
          "output_type": "stream",
          "name": "stdout",
          "text": [
            "Sudqjnd\n",
            "sodi\n",
            "aman\n",
            "sandhya\n"
          ]
        }
      ]
    },
    {
      "cell_type": "code",
      "source": [
        "l4"
      ],
      "metadata": {
        "colab": {
          "base_uri": "https://localhost:8080/"
        },
        "id": "r1CYtcqrlevL",
        "outputId": "d5d6e336-e2f4-4fe6-b126-7da74f515ea5"
      },
      "execution_count": 25,
      "outputs": [
        {
          "output_type": "execute_result",
          "data": {
            "text/plain": [
              "['SUDQJND', 'SODI', 'AMAN', 'SANDHYA']"
            ]
          },
          "metadata": {},
          "execution_count": 25
        }
      ]
    },
    {
      "cell_type": "code",
      "source": [
        "l4.append(44)"
      ],
      "metadata": {
        "id": "2b2eQtxPl55y"
      },
      "execution_count": 26,
      "outputs": []
    },
    {
      "cell_type": "code",
      "source": [
        "l4"
      ],
      "metadata": {
        "colab": {
          "base_uri": "https://localhost:8080/"
        },
        "id": "ODgKcyo6mdEV",
        "outputId": "396dad2c-ceac-44ee-f80a-37790cdc87cf"
      },
      "execution_count": 27,
      "outputs": [
        {
          "output_type": "execute_result",
          "data": {
            "text/plain": [
              "['SUDQJND', 'SODI', 'AMAN', 'SANDHYA', 44]"
            ]
          },
          "metadata": {},
          "execution_count": 27
        }
      ]
    },
    {
      "cell_type": "code",
      "source": [
        "l = [23,54,33,22,14,\"Ayush\",\"Lalu\",51,96,75]\n",
        "for i in l:\n",
        "  print(i)"
      ],
      "metadata": {
        "colab": {
          "base_uri": "https://localhost:8080/"
        },
        "id": "9xvC39yNmed6",
        "outputId": "06f33a54-1f75-4fb2-e730-97e3fdeff6f3"
      },
      "execution_count": 30,
      "outputs": [
        {
          "output_type": "stream",
          "name": "stdout",
          "text": [
            "23\n",
            "54\n",
            "33\n",
            "22\n",
            "14\n",
            "Ayush\n",
            "Lalu\n",
            "51\n",
            "96\n",
            "75\n"
          ]
        }
      ]
    },
    {
      "cell_type": "code",
      "source": [
        "l1_num = []\n",
        "l2_str = []\n",
        "for i in l:\n",
        "  if type(i)==int or type(i) == float:\n",
        "    l1_num.append(i)\n",
        "  else:\n",
        "    l2_str.append(i)"
      ],
      "metadata": {
        "id": "nt2iJNDknIKy"
      },
      "execution_count": 32,
      "outputs": []
    },
    {
      "cell_type": "code",
      "source": [
        "l1_num"
      ],
      "metadata": {
        "colab": {
          "base_uri": "https://localhost:8080/"
        },
        "id": "N38iSa34oOCs",
        "outputId": "4fc10213-332d-4a40-f370-58cb8032394e"
      },
      "execution_count": 33,
      "outputs": [
        {
          "output_type": "execute_result",
          "data": {
            "text/plain": [
              "[23, 54, 33, 22, 14, 51, 96, 75]"
            ]
          },
          "metadata": {},
          "execution_count": 33
        }
      ]
    },
    {
      "cell_type": "code",
      "source": [
        "l2_str"
      ],
      "metadata": {
        "colab": {
          "base_uri": "https://localhost:8080/"
        },
        "id": "pgkHTSKIoQ4i",
        "outputId": "08f5384c-3f64-4551-df5d-b2fc84dfe267"
      },
      "execution_count": 34,
      "outputs": [
        {
          "output_type": "execute_result",
          "data": {
            "text/plain": [
              "['Ayush', 'Lalu']"
            ]
          },
          "metadata": {},
          "execution_count": 34
        }
      ]
    },
    {
      "cell_type": "code",
      "source": [],
      "metadata": {
        "id": "FoobssdEoSWs"
      },
      "execution_count": null,
      "outputs": []
    }
  ]
}